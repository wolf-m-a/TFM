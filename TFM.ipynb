{
 "cells": [
  {
   "cell_type": "markdown",
   "id": "c412d234-88a4-4064-ab2a-efda89724bbc",
   "metadata": {},
   "source": [
    "# SABR MODEL"
   ]
  },
  {
   "cell_type": "markdown",
   "id": "95715259-348d-41d3-8048-43e0e9828ea0",
   "metadata": {},
   "source": [
    "## Variance Swap Under SABR Model"
   ]
  },
  {
   "cell_type": "markdown",
   "id": "5f130f5e-1b34-42cc-b7ff-baca495e3845",
   "metadata": {},
   "source": [
    "### Libraries"
   ]
  },
  {
   "cell_type": "code",
   "execution_count": 102,
   "id": "9e91d1a1-0b4e-4458-bfe0-56cb9735322a",
   "metadata": {},
   "outputs": [],
   "source": [
    "import numpy as np\n",
    "from scipy.stats import norm"
   ]
  },
  {
   "cell_type": "markdown",
   "id": "e588e166-a60f-443f-9657-8354fe985c0e",
   "metadata": {},
   "source": [
    "### Hyperparameters"
   ]
  },
  {
   "cell_type": "code",
   "execution_count": 104,
   "id": "aa62b8a8-1bc3-458e-b876-91e8ac88a3a5",
   "metadata": {},
   "outputs": [],
   "source": [
    "n = 1000\n",
    "T = 30/252\n",
    "t = 0\n",
    "dt = 1/252\n",
    "m = int((T-t)/dt)\n",
    "\n",
    "alpha = 0.4\n",
    "rho = 0.3\n",
    "# beta = 1 is implicit\n",
    "S0 = 6025\n",
    "sigma0 = 0.2\n",
    "r = 0"
   ]
  },
  {
   "cell_type": "markdown",
   "id": "957a0b55-5ae6-4b19-9308-63ac08e0b859",
   "metadata": {},
   "source": [
    "### Initialize Vectors"
   ]
  },
  {
   "cell_type": "code",
   "execution_count": 106,
   "id": "418f3380-e4d0-4255-aef4-0d006090336c",
   "metadata": {},
   "outputs": [],
   "source": [
    "time = np.linspace(t,T,m+1)\n",
    "St = np.zeros([n,m+1])\n",
    "vol = np.zeros([n,m+1])\n",
    "\n",
    "dW1 = np.random.normal(0, np.sqrt(dt),[n,m])\n",
    "dW2 = np.random.normal(0, np.sqrt(dt),[n,m])\n",
    "dW2 = rho*dW1 + np.sqrt(1-rho**2)*dW2\n",
    "\n",
    "int_volW = np.zeros(n)\n",
    "int_vol2t = np.zeros(n)"
   ]
  },
  {
   "cell_type": "markdown",
   "id": "8a5a93ab-6f51-42ef-b72f-9074453572b9",
   "metadata": {},
   "source": [
    "### Define Functions"
   ]
  },
  {
   "cell_type": "code",
   "execution_count": null,
   "id": "6dc1bce9-a4a4-42dd-9460-e01401048805",
   "metadata": {},
   "outputs": [],
   "source": []
  },
  {
   "cell_type": "markdown",
   "id": "1a962fba-f29b-48d6-9796-790bff8e024f",
   "metadata": {},
   "source": [
    "### Set Initial Conditions"
   ]
  },
  {
   "cell_type": "code",
   "execution_count": 109,
   "id": "fbc13f94-c407-4cae-91e1-773258c26962",
   "metadata": {},
   "outputs": [],
   "source": [
    "St[:,0] = S0\n",
    "vol[:,0] = sigma0"
   ]
  },
  {
   "cell_type": "markdown",
   "id": "b3c6d9ba-45d2-482d-a138-dddb662864e2",
   "metadata": {},
   "source": [
    "### Main Logic"
   ]
  },
  {
   "cell_type": "code",
   "execution_count": 111,
   "id": "a6cb956d-2812-4eda-8049-e5a09440944b",
   "metadata": {},
   "outputs": [],
   "source": [
    "for i in range(1, m + 1):\n",
    "    vol[:, i] = vol[:, i - 1] * np.exp(-0.5 * alpha**2 * dt + alpha * dW2[:, i - 1])\n",
    "    int_volW += vol[:, i - 1] * dW1[:, i - 1]\n",
    "    int_vol2t += vol[:, i - 1] ** 2 * dt\n",
    "    # stock prices are not calculated as they are not needed. only S0 is required."
   ]
  },
  {
   "cell_type": "markdown",
   "id": "89d54003-c738-4412-add2-699c810c2bc8",
   "metadata": {},
   "source": [
    "### Output"
   ]
  },
  {
   "cell_type": "code",
   "execution_count": 113,
   "id": "78cbbc33-6870-410b-a3ee-e604a401d425",
   "metadata": {},
   "outputs": [
    {
     "name": "stdout",
     "output_type": "stream",
     "text": [
      "0.04029602963495427\n"
     ]
    }
   ],
   "source": [
    "print((1/T * np.mean(int_vol2t)))"
   ]
  },
  {
   "cell_type": "markdown",
   "id": "422f2acc-ed26-4046-95b4-f3c7fbf10996",
   "metadata": {},
   "source": [
    "## VIX Under SABR Model"
   ]
  },
  {
   "cell_type": "markdown",
   "id": "bb1eed9b-a924-4ad4-8b70-9dd6196172f7",
   "metadata": {},
   "source": [
    "### Libraries"
   ]
  },
  {
   "cell_type": "code",
   "execution_count": 116,
   "id": "f5b4e408-230f-4923-8c4c-6cf88735857f",
   "metadata": {},
   "outputs": [],
   "source": [
    "import pandas as pd\n",
    "from datetime import date\n",
    "import yfinance as yf\n",
    "import numpy as np"
   ]
  },
  {
   "cell_type": "code",
   "execution_count": 117,
   "id": "44cfaf2c-9349-4752-b484-6ec69dc6bae1",
   "metadata": {},
   "outputs": [],
   "source": [
    "### Constants and Variables"
   ]
  },
  {
   "cell_type": "code",
   "execution_count": 143,
   "id": "ed937181-8172-4aef-850f-78a344dd8b84",
   "metadata": {},
   "outputs": [],
   "source": [
    "K_values = np.linspace(2000,8000,6001)\n",
    "dK = K_values[1]-K_values[0]\n",
    "TTM = 30\n",
    "S0_prime = S0 * np.exp(-0.5 * rho**2 * int_vol2t + rho * int_volW)\n",
    "vol_eff = np.sqrt((1 - rho**2) / (T - t) * int_vol2t)\n",
    "K = 6025\n",
    "K_0 = 6090"
   ]
  },
  {
   "cell_type": "markdown",
   "id": "7fc228ef-0226-4e98-bd73-765a1eb76812",
   "metadata": {},
   "source": [
    "### Define Functions"
   ]
  },
  {
   "cell_type": "code",
   "execution_count": 146,
   "id": "e9c27fca-f39f-4005-a019-95b0d51536b0",
   "metadata": {},
   "outputs": [],
   "source": [
    "def BlackScholes(S,tau,vol,r,K):\n",
    "    d1 = (np.log(S / K) + (r + 0.5 * vol**2) * tau) / (vol * np.sqrt(tau))\n",
    "    d2 = d1 - vol * np.sqrt(tau)\n",
    "    return norm.cdf(d1) * S - norm.cdf(d2) * K * np.exp(-r * tau)\n",
    "# since we can control how many strikes are available, there is no need to find the midpoint of the bid-ask spread. \n",
    "# use the calculated option price instead.\n",
    "def sum_strikes_simulated(S,Strikes,dK,BS_prices):\n",
    "    total = 0\n",
    "    for i in range(1,len(Strikes)-1):\n",
    "        ksqrd = Strikes[len(Strikes)-i]**2\n",
    "        qspread = BS_prices[i] if Strikes[i] > S else BS_prices[i]-S+Strikes[i]*np.exp(-r*T) # put/call parity. if r=0, put = call + (K-S)\n",
    "        total += dK*qspread/ksqrd"
   ]
  },
  {
   "cell_type": "markdown",
   "id": "d705dbfc-249e-419d-9a38-fbf9c8aa9961",
   "metadata": {},
   "source": [
    "### Main Logic"
   ]
  },
  {
   "cell_type": "code",
   "execution_count": 155,
   "id": "c22870d8-66d0-4aea-a37d-432a35e8ac4e",
   "metadata": {},
   "outputs": [],
   "source": [
    "BS_prices = np.zeros(len(K_values))\n",
    "for k in K_values:\n",
    "    current_option_price = BlackScholes(S0_prime, T-t, vol_eff, r, k)\n",
    "    index = np.where(K_values == k)[0]\n",
    "    BS_prices[index] = np.mean(current_option_price) # computes the expected BS price for this strike and TTM (T-t)\n",
    "F = K * np.exp(r*TTM) + BS_prices[np.where(Strikes == K)]"
   ]
  },
  {
   "cell_type": "markdown",
   "id": "ce1d7139-7769-48e7-94f3-9f25e2ab538e",
   "metadata": {},
   "source": [
    "### Output"
   ]
  },
  {
   "cell_type": "code",
   "execution_count": 158,
   "id": "1d18da2e-c33d-497d-a195-c3d5062227ac",
   "metadata": {},
   "outputs": [
    {
     "ename": "NameError",
     "evalue": "name 'T_mar21' is not defined",
     "output_type": "error",
     "traceback": [
      "\u001b[1;31m---------------------------------------------------------------------------\u001b[0m",
      "\u001b[1;31mNameError\u001b[0m                                 Traceback (most recent call last)",
      "Cell \u001b[1;32mIn[158], line 1\u001b[0m\n\u001b[1;32m----> 1\u001b[0m sigsqrd_mar21 \u001b[38;5;241m=\u001b[39m \u001b[38;5;241m2\u001b[39m\u001b[38;5;241m*\u001b[39mnp\u001b[38;5;241m.\u001b[39mexp(r\u001b[38;5;241m*\u001b[39mT_mar21)\u001b[38;5;241m*\u001b[39msum_strikes(K_0, mar21_am_df)\u001b[38;5;241m/\u001b[39mT_mar21\u001b[38;5;241m-\u001b[39m(T_mar21\u001b[38;5;241m*\u001b[39m\u001b[38;5;241m*\u001b[39m(\u001b[38;5;241m-\u001b[39m\u001b[38;5;241m1\u001b[39m))\u001b[38;5;241m*\u001b[39m(F_mar21\u001b[38;5;241m/\u001b[39mK_0\u001b[38;5;241m-\u001b[39m\u001b[38;5;241m1\u001b[39m)\u001b[38;5;241m*\u001b[39m\u001b[38;5;241m*\u001b[39m\u001b[38;5;241m2\u001b[39m\n\u001b[0;32m      2\u001b[0m vix_mar21 \u001b[38;5;241m=\u001b[39m np\u001b[38;5;241m.\u001b[39msqrt(sigsqrd_mar21)\u001b[38;5;241m*\u001b[39m\u001b[38;5;241m100\u001b[39m\n",
      "\u001b[1;31mNameError\u001b[0m: name 'T_mar21' is not defined"
     ]
    }
   ],
   "source": [
    "sigsqrd_mar21 = 2*np.exp(r*TTM)*sum_strikes(S0_prime,K_values,dK,BS_prices)/TTM - (1/TTM)*(F/K_0-1)**2\n",
    "vix_mar21 = np.sqrt(sigsqrd_mar21)*100"
   ]
  },
  {
   "cell_type": "markdown",
   "id": "953ee2fc-d319-402a-a69d-85db32d475bc",
   "metadata": {},
   "source": [
    "# VIX FROM MARKET DATA"
   ]
  },
  {
   "cell_type": "markdown",
   "id": "2e25a9b5-8904-4d2f-82da-85cbaa580178",
   "metadata": {},
   "source": [
    "### Libraries"
   ]
  },
  {
   "cell_type": "code",
   "execution_count": null,
   "id": "e4bf3013-8ca5-4875-9f82-239bb9be2904",
   "metadata": {},
   "outputs": [],
   "source": [
    "import pandas as pd\n",
    "from datetime import date\n",
    "import yfinance as yf\n",
    "import numpy as np"
   ]
  },
  {
   "cell_type": "markdown",
   "id": "740e8cc8-2b03-49f7-acc6-999a61d5a2ae",
   "metadata": {},
   "source": [
    "### Constants and Variables"
   ]
  },
  {
   "cell_type": "code",
   "execution_count": null,
   "id": "d24a8632-83fd-4aec-8c40-eedea566352f",
   "metadata": {},
   "outputs": [],
   "source": [
    "S_0 = 6025.99\n",
    "r = yf.Ticker(\"^IRX\").history(period=\"1mo\")[\"Close\"].iloc[-1]/100\n",
    "\n",
    "# Read Data. Data taken from Fidelity Investments SPX Options Chain on Feb 7/2025\n",
    "mar21_am_df = parse_text_file('data/spx_mar21.txt')\n",
    "mar24_pm_df = parse_text_file('data/spx_mar24.txt')\n",
    "\n",
    "# Find the time in years between today and expiry\n",
    "T_mar21 = (date(2025,3,21)-date(2025,2,7)).days/252\n",
    "T_mar24 = (date(2025,3,24)-date(2025,2,7)).days/252\n",
    "\n",
    "# the option implied forward price. at EOD friday 7/feb 2025, it is almost\n",
    "# exactly 6025, which is a strike price. Otherwise, we would interpolate the\n",
    "# option implied forward value between the two closest strikes\n",
    "K = 6025\n",
    "F_mar21 = K*np.exp(r*T_mar21) + (120.1 - 96.1) # from put/call parity\n",
    "F_mar24 = K*np.exp(r*T_mar24) + (0-99.32) # use BS call price for this missing val?\n",
    "K_0 = 6090"
   ]
  },
  {
   "cell_type": "markdown",
   "id": "05b4d959-2e67-4f93-8deb-aee703864a96",
   "metadata": {},
   "source": [
    "### Define Functions"
   ]
  },
  {
   "cell_type": "code",
   "execution_count": null,
   "id": "1622899e-cebc-441e-9121-f177d8ae31b9",
   "metadata": {},
   "outputs": [],
   "source": [
    "# the structure of this function is as ugly as that of the data it is meant to read\n",
    "def parse_text_file(file_path):\n",
    "    # Read the file and process lines\n",
    "    with open(file_path, 'r') as f:\n",
    "        lines = [line.strip() for line in f if line.strip()]\n",
    "    \n",
    "    # Split into chunks of 11 lines per row\n",
    "    rows = [lines[i:i+11] for i in range(0, len(lines), 11)]\n",
    "    \n",
    "    data = []\n",
    "    columns = [\n",
    "        'Call Last', 'Call Change', 'Call Bid', 'Call Ask',\n",
    "        'Call Volume', 'Call Open Int', 'Call Imp Vol', 'Call Delta', 'Call Action',\n",
    "        'Strike',\n",
    "        'Put Action', 'Put Last', 'Put Change', 'Put Bid', 'Put Ask',\n",
    "        'Put Volume', 'Put Open Int', 'Put Imp Vol', 'Put Delta'\n",
    "    ]\n",
    "    \n",
    "    for row_lines in rows:\n",
    "        fields = []\n",
    "        for line in row_lines:\n",
    "            # Split each line by tabs, strip whitespace, and filter out empty parts\n",
    "            parts = [part.strip() for part in line.split('\\t')]\n",
    "            parts = [p for p in parts if p]\n",
    "            fields.extend(parts)\n",
    "        \n",
    "        # Check if we have exactly 19 fields\n",
    "        if len(fields) != 19:\n",
    "            raise ValueError(f\"Expected 19 fields, got {len(fields)} in row: {fields}\")\n",
    "        \n",
    "        processed = []\n",
    "        # Process each field according to its column\n",
    "        try:\n",
    "            # Call Last\n",
    "            processed.append(float(fields[0].replace(',', '')))\n",
    "            # Call Change\n",
    "            processed.append(float(fields[1].replace(',', '')))\n",
    "            # Call Bid\n",
    "            processed.append(float(fields[2].replace(',', '')))\n",
    "            # Call Ask\n",
    "            processed.append(float(fields[3].replace(',', '')))\n",
    "            # Call Volume\n",
    "            processed.append(int(fields[4].replace(',', '')))\n",
    "            # Call Open Int\n",
    "            processed.append(int(fields[5].replace(',', '')))\n",
    "            # Call Imp Vol\n",
    "            if fields[6] == \"--\":\n",
    "                fields[6] = 0\n",
    "            else:    \n",
    "                processed.append(float(fields[6].strip(' %')))\n",
    "            # Call Delta\n",
    "            processed.append(float(fields[7]))\n",
    "            # Call Action\n",
    "            processed.append(fields[8])\n",
    "            # Strike\n",
    "            processed.append(int(fields[9].replace(',', '')))\n",
    "            # Put Action\n",
    "            processed.append(fields[10])\n",
    "            # Put Last\n",
    "            processed.append(float(fields[11].replace(',', '')))\n",
    "            # Put Change\n",
    "            processed.append(float(fields[12].replace(',', '')))\n",
    "            # Put Bid\n",
    "            processed.append(float(fields[13].replace(',', '')))\n",
    "            # Put Ask\n",
    "            processed.append(float(fields[14].replace(',', '')))\n",
    "            # Put Volume\n",
    "            processed.append(int(fields[15].replace(',', '')))\n",
    "            # Put Open Int\n",
    "            processed.append(int(fields[16].replace(',', '')))\n",
    "            # Put Imp Vol\n",
    "            if fields[17]==\"--\":\n",
    "                fields[17] = 0\n",
    "            else:\n",
    "                processed.append(float(fields[17].strip(' %')))\n",
    "            # Put Delta\n",
    "            processed.append(float(fields[18]))\n",
    "        except (ValueError, IndexError) as e:\n",
    "            raise ValueError(f\"Error processing row: {fields}\") from e\n",
    "        \n",
    "        data.append(processed)\n",
    "    \n",
    "    df = pd.DataFrame(data, columns=columns)\n",
    "    return df\n",
    "\n",
    "def sum_strikes(K_0:float, df):\n",
    "    total = 0\n",
    "    kindex = df.index[df[\"Strike\"]==K_0][0]\n",
    "    strikes = df[\"Strike\"].values \n",
    "    delta_k = 0; ksqrd = 0\n",
    "    for i in range(1,len(strikes)-1):\n",
    "        print(strikes[i+1],strikes[i-1],i)\n",
    "        if strikes[i+1] == 'Open or Close Menu.' or strikes[i-1]=='Open or Close Menu.':\n",
    "            pass\n",
    "        else:\n",
    "            delta_k = (strikes[i+1]-strikes[i-1])/2\n",
    "            ksqrd = strikes[len(strikes)-i]**2\n",
    "        if i < kindex:\n",
    "            qspread = (df[\"Put Bid\"].iloc[i]+df[\"Put Ask\"].iloc[i])/2\n",
    "        elif i > kindex:\n",
    "            qspread = (df[\"Call Bid\"].iloc[i]+df[\"Call Ask\"].iloc[i])/2\n",
    "        else:\n",
    "            qspread = ((df[\"Put Bid\"].iloc[i]+df[\"Put Ask\"].iloc[i])/2 + \n",
    "                       (df[\"Call Bid\"].iloc[i]+df[\"Call Ask\"].iloc[i])/2)/2\n",
    "        total += delta_k*qspread/ksqrd\n",
    "    return total"
   ]
  },
  {
   "cell_type": "markdown",
   "id": "a5639857-b561-4ec0-a85c-00f81b1da586",
   "metadata": {},
   "source": [
    "### Main Logic"
   ]
  },
  {
   "cell_type": "code",
   "execution_count": null,
   "id": "19fe6b0b-2a97-4a67-a924-d72d921486d6",
   "metadata": {},
   "outputs": [],
   "source": [
    "sigsqrd_mar21 = 2*np.exp(r*T_mar21)*sum_strikes(K_0, mar21_am_df)/T_mar21-(T_mar21**(-1))*(F_mar21/K_0-1)**2\n",
    "#sigsqrd_mar24 = 2*np.exp(r*T_mar24)*sum_strikes(K_0, mar24_pm_df)/T_mar24\n",
    "\n",
    "vix_mar21 = np.sqrt(sigsqrd_mar21)*100\n",
    "print(vix_mar21)"
   ]
  }
 ],
 "metadata": {
  "kernelspec": {
   "display_name": "Python [conda env:base] *",
   "language": "python",
   "name": "conda-base-py"
  },
  "language_info": {
   "codemirror_mode": {
    "name": "ipython",
    "version": 3
   },
   "file_extension": ".py",
   "mimetype": "text/x-python",
   "name": "python",
   "nbconvert_exporter": "python",
   "pygments_lexer": "ipython3",
   "version": "3.12.7"
  }
 },
 "nbformat": 4,
 "nbformat_minor": 5
}
